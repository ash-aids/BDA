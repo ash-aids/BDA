{
 "cells": [
  {
   "cell_type": "code",
   "execution_count": 26,
   "metadata": {},
   "outputs": [],
   "source": [
    "text = '''I like Hadoop.\n",
    "          Hadoop is good for big data computing.\n",
    "          MapReduce is part of Hadoop.\n",
    "          This is an example of MapReduce.\n",
    "        '''"
   ]
  },
  {
   "cell_type": "code",
   "execution_count": null,
   "metadata": {},
   "outputs": [],
   "source": [
    "def mapper(text):\n",
    "    result = []\n",
    "    words = text.split(.)\n",
    "    for word in words:\n",
    "        word = word.strip('.,!?').lower()\n",
    "        result.append((word,1))\n",
    "\n",
    "    return result"
   ]
  },
  {
   "cell_type": "code",
   "execution_count": 32,
   "metadata": {},
   "outputs": [
    {
     "name": "stdout",
     "output_type": "stream",
     "text": [
      "Result:  [('i', 1), ('like', 1), ('hadoop', 1), ('hadoop', 1), ('is', 1), ('good', 1), ('for', 1), ('big', 1), ('data', 1), ('computing', 1), ('mapreduce', 1), ('is', 1), ('part', 1), ('of', 1), ('hadoop', 1), ('this', 1), ('is', 1), ('an', 1), ('example', 1), ('of', 1), ('mapreduce', 1)]\n"
     ]
    }
   ],
   "source": [
    "map_output = mapper(text)\n",
    "print(\"Result: \", map_output)"
   ]
  },
  {
   "cell_type": "code",
   "execution_count": 35,
   "metadata": {},
   "outputs": [],
   "source": [
    "def shuffle_sort(mp_output):\n",
    "    result = {}\n",
    "    for word,count in mp_output:\n",
    "        if word in result:\n",
    "            result[word].append(count)\n",
    "        else:\n",
    "            result[word] = [count]\n",
    "    \n",
    "    return result\n"
   ]
  },
  {
   "cell_type": "code",
   "execution_count": 36,
   "metadata": {},
   "outputs": [
    {
     "name": "stdout",
     "output_type": "stream",
     "text": [
      "Shuffle Sort Output:  {'i': [1], 'like': [1], 'hadoop': [1, 1, 1], 'is': [1, 1, 1], 'good': [1], 'for': [1], 'big': [1], 'data': [1], 'computing': [1], 'mapreduce': [1, 1], 'part': [1], 'of': [1, 1], 'this': [1], 'an': [1], 'example': [1]}\n"
     ]
    }
   ],
   "source": [
    "shuffle_sort_output = shuffle_sort(map_output)\n",
    "print(\"Shuffle Sort Output: \", shuffle_sort_output)\n"
   ]
  },
  {
   "cell_type": "code",
   "execution_count": 37,
   "metadata": {},
   "outputs": [],
   "source": [
    "def reducer(shuffle_sort_output):\n",
    "    result = {}\n",
    "\n",
    "    for word, counts in shuffle_sort_output.items():\n",
    "        result[word] = sum(counts)\n",
    "    return result"
   ]
  },
  {
   "cell_type": "code",
   "execution_count": 38,
   "metadata": {},
   "outputs": [
    {
     "name": "stdout",
     "output_type": "stream",
     "text": [
      "Reducer output is:  {'i': 1, 'like': 1, 'hadoop': 3, 'is': 3, 'good': 1, 'for': 1, 'big': 1, 'data': 1, 'computing': 1, 'mapreduce': 2, 'part': 1, 'of': 2, 'this': 1, 'an': 1, 'example': 1}\n"
     ]
    }
   ],
   "source": [
    "reducer_output = reducer(shuffle_sort_output)\n",
    "print(\"Reducer output is: \", reducer_output)"
   ]
  },
  {
   "cell_type": "code",
   "execution_count": null,
   "metadata": {},
   "outputs": [],
   "source": []
  }
 ],
 "metadata": {
  "kernelspec": {
   "display_name": "DeepLearning",
   "language": "python",
   "name": "python3"
  },
  "language_info": {
   "codemirror_mode": {
    "name": "ipython",
    "version": 3
   },
   "file_extension": ".py",
   "mimetype": "text/x-python",
   "name": "python",
   "nbconvert_exporter": "python",
   "pygments_lexer": "ipython3",
   "version": "3.12.4"
  }
 },
 "nbformat": 4,
 "nbformat_minor": 2
}
